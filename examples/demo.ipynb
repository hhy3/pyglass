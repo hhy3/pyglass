{
 "cells": [
  {
   "cell_type": "code",
   "execution_count": 1,
   "metadata": {},
   "outputs": [],
   "source": [
    "import glass\n",
    "from ann_dataset import dataset_dict"
   ]
  },
  {
   "cell_type": "code",
   "execution_count": null,
   "metadata": {},
   "outputs": [],
   "source": [
    "topk = 10\n",
    "dataset = dataset_dict['sift-128-euclidean']('../datasets')\n",
    "X_train = dataset.get_database()\n",
    "X_test = dataset.get_queries()\n",
    "Y = dataset.get_groundtruth(topk)\n",
    "n, d = X_train.shape\n",
    "nq, d = X_test.shape\n",
    "metric = dataset.metric\n",
    "print(f\"n = {n}, d = {d}, nq = {nq}, metric = {metric}\")\n",
    "print(f\"dataset size = {n * d * 4 / 1024 / 1024:.2f}MB\")\n"
   ]
  },
  {
   "cell_type": "code",
   "execution_count": null,
   "metadata": {},
   "outputs": [],
   "source": [
    "from time import time\n",
    "\n",
    "index = glass.Index(index_type=\"HNSW\", metric=metric, R=48, L=100, quant=\"SQ4U\")\n",
    "t0 = time()\n",
    "g = index.build(X_train)\n",
    "t1 = time()\n",
    "print(f\"Done build graph, elapsed {t1 - t0:.2f}s\")\n"
   ]
  },
  {
   "cell_type": "code",
   "execution_count": null,
   "metadata": {},
   "outputs": [],
   "source": [
    "s = glass.Searcher(graph=g, data=X_train, metric=metric, quantizer=\"SQ4U\")\n",
    "s.set_ef(36)\n"
   ]
  },
  {
   "cell_type": "code",
   "execution_count": null,
   "metadata": {},
   "outputs": [],
   "source": [
    "from time import time\n",
    "\n",
    "pred = s.batch_search(query=X_test, k=topk).reshape(-1, topk)\n",
    "recall = dataset.evaluate(pred, topk)\n",
    "print(f\"Recall = {recall * 100:.2f}%\")\n"
   ]
  },
  {
   "cell_type": "code",
   "execution_count": null,
   "metadata": {},
   "outputs": [],
   "source": [
    "s.batch_search(query=X_test, k=topk)  # warmup\n",
    "for iter in range(10):\n",
    "    t1 = time()\n",
    "    pred = s.batch_search(query=X_test, k=topk)\n",
    "    t2 = time()\n",
    "    print(f\"QPS = {nq / (t2 - t1):.2f}\")\n"
   ]
  },
  {
   "cell_type": "code",
   "execution_count": null,
   "metadata": {},
   "outputs": [],
   "source": [
    "s.optimize()\n"
   ]
  },
  {
   "cell_type": "code",
   "execution_count": null,
   "metadata": {},
   "outputs": [],
   "source": [
    "s.batch_search(query=X_test, k=topk)  # warmup\n",
    "for iter in range(10):\n",
    "    t1 = time()\n",
    "    pred = s.batch_search(query=X_test, k=topk).reshape(-1, topk)\n",
    "    t2 = time()\n",
    "    print(f\"QPS = {nq / (t2 - t1)}\")\n"
   ]
  }
 ],
 "metadata": {
  "kernelspec": {
   "display_name": "vs",
   "language": "python",
   "name": "python3"
  },
  "language_info": {
   "codemirror_mode": {
    "name": "ipython",
    "version": 3
   },
   "file_extension": ".py",
   "mimetype": "text/x-python",
   "name": "python",
   "nbconvert_exporter": "python",
   "pygments_lexer": "ipython3",
   "version": "3.11.11"
  },
  "orig_nbformat": 4
 },
 "nbformat": 4,
 "nbformat_minor": 2
}
